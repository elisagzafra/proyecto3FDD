{
 "cells": [
  {
   "cell_type": "code",
   "execution_count": 1,
   "id": "97c0f2d7-bd29-436e-86b4-f817b96353b2",
   "metadata": {},
   "outputs": [],
   "source": [
    "import  sqlalchemy as sqla \n",
    "import os"
   ]
  },
  {
   "cell_type": "code",
   "execution_count": 2,
   "id": "6579155d-9bf9-4043-abbe-50ac708fdb8a",
   "metadata": {},
   "outputs": [
    {
     "name": "stdout",
     "output_type": "stream",
     "text": [
      "Requirement already satisfied: psycopg2-binary in /root/miniconda3/lib/python3.10/site-packages (2.9.5)\n",
      "\u001b[33mWARNING: Running pip as the 'root' user can result in broken permissions and conflicting behaviour with the system package manager. It is recommended to use a virtual environment instead: https://pip.pypa.io/warnings/venv\u001b[0m\u001b[33m\n",
      "\u001b[0m"
     ]
    }
   ],
   "source": [
    "! pip install psycopg2-binary"
   ]
  },
  {
   "cell_type": "markdown",
   "id": "db3716b6-da4b-4ccf-9422-629b86a44a26",
   "metadata": {},
   "source": [
    "# Leer Variables de Ambiente"
   ]
  },
  {
   "cell_type": "code",
   "execution_count": 5,
   "id": "acb1a354-4aba-4b80-92b1-dd3f519fcf91",
   "metadata": {},
   "outputs": [],
   "source": [
    "POSTGRES_DB = os.getenv('POSTGRES_DB')\n",
    "POSTGRES_PASSWORD = os.getenv('POSTGRES_PASSWORD')\n",
    "POSTGRES_USER = os.getenv('POSTGRES_USER')\n",
    "POSTGRES_PORT = os.getenv('POSTGRES_PORT')\n",
    "POSTGRES_HOST = os.getenv('POSTGRES_HOST')"
   ]
  },
  {
   "cell_type": "markdown",
   "id": "9f031ab8-18a3-44f6-9405-fc012af6cf27",
   "metadata": {},
   "source": [
    "# Funciones Auxiliares"
   ]
  },
  {
   "cell_type": "code",
   "execution_count": 14,
   "id": "09404627-886b-4710-9e0e-1f8fc15fe5b2",
   "metadata": {},
   "outputs": [],
   "source": [
    "from sqlalchemy import create_engine\n",
    "# create a new engine\n",
    "def start_engine(echo:bool=True):\n",
    "    db_string = f'postgresql://{POSTGRES_USER}:{POSTGRES_PASSWORD}@{POSTGRES_HOST}:{POSTGRES_PORT}/{POSTGRES_DB}'\n",
    "    engine = create_engine(db_string, echo=echo)\n",
    "    \n",
    "    return engine"
   ]
  },
  {
   "cell_type": "code",
   "execution_count": 15,
   "id": "4fd64b91-babe-49a1-9239-29c0be5a747c",
   "metadata": {},
   "outputs": [],
   "source": [
    "from sqlalchemy import inspect\n",
    "def existe_tabla(nombre_tabla:str):\n",
    "    engine = start_engine(echo=False)\n",
    "    inspector = inspect(engine)\n",
    "    schemas = inspector.get_schema_names()\n",
    "\n",
    "    for schema in schemas:\n",
    "        for table_name in inspector.get_table_names(schema=schema):\n",
    "            if nombre_tabla == table_name:\n",
    "                print(f\"Table: {table_name} existe \")  \n",
    "                print(\"Columns:  \")\n",
    "                for column in inspector.get_columns(table_name, schema=schema):\n",
    "                    print(\"Column: %s\" % column)\n",
    "                return True\n",
    "    return False"
   ]
  },
  {
   "cell_type": "code",
   "execution_count": 27,
   "id": "68bc33e6-d118-4d68-9017-3e33f215651a",
   "metadata": {},
   "outputs": [],
   "source": [
    "from sqlalchemy.orm import sessionmaker\n",
    "def create_session(echo:bool=False):\n",
    "    engine = start_engine(echo=echo)\n",
    "    Session = sessionmaker(bind=engine)\n",
    "    session = Session()\n",
    "    \n",
    "    return session"
   ]
  },
  {
   "cell_type": "code",
   "execution_count": 24,
   "id": "89dc1480-53eb-4b82-86be-7643fb961a36",
   "metadata": {},
   "outputs": [],
   "source": [
    "from sqlalchemy import create_engine, MetaData, Table, select\n",
    "\n",
    "def glipse_tabla(nombre_tabla:str, obs:int=5, engine=None):\n",
    "\n",
    "    # Nuevo engine\n",
    "    if not engine:\n",
    "        engine = start_engine(echo=False)\n",
    "    # Crear objeto metadata para reflejar la metadata existente en la tabla\n",
    "    metadata = MetaData()\n",
    "    students_table = Table(nombre_tabla, metadata,  autoload_with=engine)\n",
    "    # Seleccionar solo las primeras 3 rows\n",
    "    select_stmt = select(students_table).limit(obs)\n",
    "    # Crear la coneccion y ejecutar el statement\n",
    "    conn = engine.connect()\n",
    "    result = conn.execute(select_stmt)\n",
    "    # print the rows\n",
    "    for row in result:\n",
    "        print(row)\n",
    "    # close the connection\n",
    "    conn.close()"
   ]
  },
  {
   "cell_type": "markdown",
   "id": "820f44f6-58dd-4861-b942-ae8de6aca9a2",
   "metadata": {},
   "source": [
    "# Crear Nuevas Tablas"
   ]
  },
  {
   "cell_type": "code",
   "execution_count": 19,
   "id": "4f972c1f-99c6-4148-8bd6-ae4f0b297aed",
   "metadata": {},
   "outputs": [],
   "source": [
    "from sqlalchemy.orm import declarative_base\n",
    "from sqlalchemy import Column, Integer, String, Float"
   ]
  },
  {
   "cell_type": "code",
   "execution_count": 20,
   "id": "6bc18a64-85e8-4fa1-ad3f-403f7114ce91",
   "metadata": {},
   "outputs": [],
   "source": [
    "engine = start_engine(False)\n",
    "\n",
    "# define the students table\n",
    "Base = declarative_base()\n",
    "\n",
    "class Clase1(Base):\n",
    "    __tablename__ = 'Clase1'\n",
    "    cu = Column(Integer, primary_key=True)\n",
    "    grade = Column(Float)\n",
    "        \n",
    "    \n",
    "Base.metadata.create_all(engine)\n"
   ]
  },
  {
   "cell_type": "code",
   "execution_count": 25,
   "id": "5c291ee9-828d-46ad-87f6-beb6de9e6964",
   "metadata": {},
   "outputs": [
    {
     "name": "stdout",
     "output_type": "stream",
     "text": [
      "Table: Clase1 existe \n",
      "Columns:  \n",
      "Column: {'name': 'cu', 'type': INTEGER(), 'nullable': False, 'default': 'nextval(\\'\"public\".\"Clase1_cu_seq\"\\'::regclass)', 'autoincrement': True, 'comment': None}\n",
      "Column: {'name': 'grade', 'type': DOUBLE_PRECISION(precision=53), 'nullable': True, 'default': None, 'autoincrement': False, 'comment': None}\n"
     ]
    },
    {
     "data": {
      "text/plain": [
       "True"
      ]
     },
     "execution_count": 25,
     "metadata": {},
     "output_type": "execute_result"
    }
   ],
   "source": [
    "existe_tabla('Clase1')"
   ]
  },
  {
   "cell_type": "code",
   "execution_count": 21,
   "id": "792595e4-20b4-442a-a5fb-e8d68d26789f",
   "metadata": {},
   "outputs": [],
   "source": [
    "engine = start_engine(False)\n",
    "\n",
    "# define the students table\n",
    "Base = declarative_base()\n",
    "\n",
    "class Clase2(Base):\n",
    "    __tablename__ = 'Clase2'\n",
    "    cu = Column(Integer, primary_key=True)\n",
    "    grade = Column(Float)\n",
    "    \n",
    "Base.metadata.create_all(engine)\n"
   ]
  },
  {
   "cell_type": "code",
   "execution_count": 26,
   "id": "def86492-86fb-453c-8c28-75eb3b206b08",
   "metadata": {},
   "outputs": [
    {
     "name": "stdout",
     "output_type": "stream",
     "text": [
      "Table: Clase2 existe \n",
      "Columns:  \n",
      "Column: {'name': 'cu', 'type': INTEGER(), 'nullable': False, 'default': 'nextval(\\'\"public\".\"Clase2_cu_seq\"\\'::regclass)', 'autoincrement': True, 'comment': None}\n",
      "Column: {'name': 'grade', 'type': DOUBLE_PRECISION(precision=53), 'nullable': True, 'default': None, 'autoincrement': False, 'comment': None}\n"
     ]
    },
    {
     "data": {
      "text/plain": [
       "True"
      ]
     },
     "execution_count": 26,
     "metadata": {},
     "output_type": "execute_result"
    }
   ],
   "source": [
    "existe_tabla('Clase2')"
   ]
  },
  {
   "cell_type": "markdown",
   "id": "5d62f319-fee1-4d38-94a8-dd8d3f06265c",
   "metadata": {},
   "source": [
    "# Popular tablas"
   ]
  },
  {
   "cell_type": "code",
   "execution_count": 30,
   "id": "c5f07fe2-0b3c-430d-9ebd-31fce2ede1a5",
   "metadata": {},
   "outputs": [],
   "source": [
    "from sqlalchemy.orm import declarative_base\n"
   ]
  },
  {
   "cell_type": "code",
   "execution_count": 31,
   "id": "cb5ce9a8-a2f6-4628-916e-474a6c95436b",
   "metadata": {},
   "outputs": [],
   "source": [
    "class Student(Base):\n",
    "    __tablename__ = 'students'\n",
    "    cu = Column(Integer, primary_key=True)\n",
    "    nombre = Column(String)\n",
    "    apellido = Column(String)\n",
    "    grade = Column(Float)"
   ]
  },
  {
   "cell_type": "code",
   "execution_count": 44,
   "id": "56577006-0213-4226-a9c1-b7035e1a0d04",
   "metadata": {},
   "outputs": [],
   "source": [
    "import warnings\n",
    "\n",
    "\n",
    "class ClaseWarnings(Warning):\n",
    "    pass\n",
    "\n",
    "class ExisteCU(ClaseWarnings):\n",
    "    pass\n",
    "\n",
    "class ModificarCU(ClaseWarnings):\n",
    "    pass"
   ]
  },
  {
   "cell_type": "code",
   "execution_count": 80,
   "id": "6e651856-3caa-4d76-89e7-a2fa06385d9d",
   "metadata": {},
   "outputs": [],
   "source": [
    "class AddGrade():\n",
    "    \n",
    "    def __init__(self, table:declarative_base):\n",
    "        self.table = table\n",
    "        self.main_base = Student\n",
    "    \n",
    "    def revisar_integridad_base(self,cu:int):\n",
    "        student = session.query(self.main_base).filter_by(cu=cu).first()\n",
    "        if student == None:\n",
    "            raise Exception(f'La cu {cu} no existe en la base principal')\n",
    "        else:\n",
    "            pass\n",
    "    \n",
    "    def revisar_integridad_tabla(self,cu:int, grade:float):\n",
    "        \n",
    "        assert(0.0 <= grade <= 10.0)\n",
    "        assert(0 < cu)\n",
    "        student = session.query(self.table).filter_by(cu=cu).first()\n",
    "        if student == None: # Nuevx alumne y grade\n",
    "            return True\n",
    "        else:\n",
    "            warnings.warn(f\"Entrada con el \\'cu\\' {cu} ya existe, utiliza el metodo apropiado para modificarla\", ExisteCU)\n",
    "            return False\n",
    "    \n",
    "    def add_grade(self,cu:int, grade:float):\n",
    "        self.revisar_integridad_base(cu)\n",
    "        existe_grade = self.revisar_integridad_tabla(cu, grade)\n",
    "        if existe_grade:\n",
    "            session = create_session(False)\n",
    "            # Crear una observacion o instancia de Student usando su clase\n",
    "            calificacion = self.table(cu=cu, grade=grade)\n",
    "            # Agregarla\n",
    "            session.add(calificacion)\n",
    "            # Commit a la base\n",
    "            try:\n",
    "                session.commit()\n",
    "            except IntegrityError:\n",
    "                session.rollback()\n",
    "                print('IntegrityError: Duplicate key value')\n",
    "        else:\n",
    "            pass\n",
    "\n",
    "            \n",
    "            \n",
    "        \n",
    "        "
   ]
  },
  {
   "cell_type": "code",
   "execution_count": 84,
   "id": "8da88dd1-9b44-419e-9e58-8dd7c02842ff",
   "metadata": {},
   "outputs": [],
   "source": [
    "clase1_manipulator = AddGrade(Clase1)"
   ]
  },
  {
   "cell_type": "code",
   "execution_count": 82,
   "id": "5185104e-54bf-49ab-8397-b83df6bd2e28",
   "metadata": {},
   "outputs": [
    {
     "name": "stderr",
     "output_type": "stream",
     "text": [
      "/tmp/ipykernel_57/1918778077.py:22: ExisteCU: Entrada con el 'cu' 1 ya existe, utiliza el metodo apropiado para modificarla\n",
      "  warnings.warn(f\"Entrada con el \\'cu\\' {cu} ya existe, utiliza el metodo apropiado para modificarla\", ExisteCU)\n"
     ]
    }
   ],
   "source": [
    "clase1_manipulator.add_grade(cu=1, grade=8.0)"
   ]
  },
  {
   "cell_type": "code",
   "execution_count": 83,
   "id": "855de38a-f3ca-4492-9ba1-9dda50cfa17a",
   "metadata": {},
   "outputs": [
    {
     "name": "stdout",
     "output_type": "stream",
     "text": [
      "(1, 8.0)\n"
     ]
    }
   ],
   "source": [
    "glipse_tabla(nombre_tabla='Clase1')"
   ]
  },
  {
   "cell_type": "code",
   "execution_count": 85,
   "id": "d1a5da27-4d51-48f4-8685-975df7cc8ee0",
   "metadata": {},
   "outputs": [
    {
     "ename": "Exception",
     "evalue": "La cu 18 no existe en la base principal",
     "output_type": "error",
     "traceback": [
      "\u001b[0;31m---------------------------------------------------------------------------\u001b[0m",
      "\u001b[0;31mException\u001b[0m                                 Traceback (most recent call last)",
      "Cell \u001b[0;32mIn[85], line 1\u001b[0m\n\u001b[0;32m----> 1\u001b[0m \u001b[43mclase1_manipulator\u001b[49m\u001b[38;5;241;43m.\u001b[39;49m\u001b[43madd_grade\u001b[49m\u001b[43m(\u001b[49m\u001b[43mcu\u001b[49m\u001b[38;5;241;43m=\u001b[39;49m\u001b[38;5;241;43m18\u001b[39;49m\u001b[43m,\u001b[49m\u001b[43m \u001b[49m\u001b[43mgrade\u001b[49m\u001b[38;5;241;43m=\u001b[39;49m\u001b[38;5;241;43m8.0\u001b[39;49m\u001b[43m)\u001b[49m\n",
      "Cell \u001b[0;32mIn[80], line 26\u001b[0m, in \u001b[0;36mAddGrade.add_grade\u001b[0;34m(self, cu, grade)\u001b[0m\n\u001b[1;32m     25\u001b[0m \u001b[38;5;28;01mdef\u001b[39;00m \u001b[38;5;21madd_grade\u001b[39m(\u001b[38;5;28mself\u001b[39m,cu:\u001b[38;5;28mint\u001b[39m, grade:\u001b[38;5;28mfloat\u001b[39m):\n\u001b[0;32m---> 26\u001b[0m     \u001b[38;5;28;43mself\u001b[39;49m\u001b[38;5;241;43m.\u001b[39;49m\u001b[43mrevisar_integridad_base\u001b[49m\u001b[43m(\u001b[49m\u001b[43mcu\u001b[49m\u001b[43m)\u001b[49m\n\u001b[1;32m     27\u001b[0m     existe_grade \u001b[38;5;241m=\u001b[39m \u001b[38;5;28mself\u001b[39m\u001b[38;5;241m.\u001b[39mrevisar_integridad_tabla(cu, grade)\n\u001b[1;32m     28\u001b[0m     \u001b[38;5;28;01mif\u001b[39;00m existe_grade:\n",
      "Cell \u001b[0;32mIn[80], line 10\u001b[0m, in \u001b[0;36mAddGrade.revisar_integridad_base\u001b[0;34m(self, cu)\u001b[0m\n\u001b[1;32m      8\u001b[0m student \u001b[38;5;241m=\u001b[39m session\u001b[38;5;241m.\u001b[39mquery(\u001b[38;5;28mself\u001b[39m\u001b[38;5;241m.\u001b[39mmain_base)\u001b[38;5;241m.\u001b[39mfilter_by(cu\u001b[38;5;241m=\u001b[39mcu)\u001b[38;5;241m.\u001b[39mfirst()\n\u001b[1;32m      9\u001b[0m \u001b[38;5;28;01mif\u001b[39;00m student \u001b[38;5;241m==\u001b[39m \u001b[38;5;28;01mNone\u001b[39;00m:\n\u001b[0;32m---> 10\u001b[0m     \u001b[38;5;28;01mraise\u001b[39;00m \u001b[38;5;167;01mException\u001b[39;00m(\u001b[38;5;124mf\u001b[39m\u001b[38;5;124m'\u001b[39m\u001b[38;5;124mLa cu \u001b[39m\u001b[38;5;132;01m{\u001b[39;00mcu\u001b[38;5;132;01m}\u001b[39;00m\u001b[38;5;124m no existe en la base principal\u001b[39m\u001b[38;5;124m'\u001b[39m)\n\u001b[1;32m     11\u001b[0m \u001b[38;5;28;01melse\u001b[39;00m:\n\u001b[1;32m     12\u001b[0m     \u001b[38;5;28;01mpass\u001b[39;00m\n",
      "\u001b[0;31mException\u001b[0m: La cu 18 no existe en la base principal"
     ]
    }
   ],
   "source": [
    "clase1_manipulator.add_grade(cu=18, grade=8.0)"
   ]
  },
  {
   "cell_type": "markdown",
   "id": "828aeb39-f9ff-4116-abbd-b23318ec234d",
   "metadata": {},
   "source": [
    "**Proyecto**: Modificar la clase para que acepte listas de diccionarios. Ejemplo: Que pueda agregar a todes en la siguiente lista [{'cu':5, 'grade':9.3}, {'cu':6, 'grade':7.3}, ...]"
   ]
  },
  {
   "cell_type": "code",
   "execution_count": 86,
   "id": "ae64a474-5616-4e18-93b8-464f2cd152a8",
   "metadata": {},
   "outputs": [],
   "source": [
    "clase2_manipulator = AddGrade(Clase2)"
   ]
  },
  {
   "cell_type": "code",
   "execution_count": 87,
   "id": "2cc3fc94-b714-4287-81f0-db11bcee7e4b",
   "metadata": {},
   "outputs": [],
   "source": [
    "clase2_manipulator.add_grade(cu=2, grade=9.0)"
   ]
  },
  {
   "cell_type": "code",
   "execution_count": 88,
   "id": "81a859e0-3333-4aaf-b312-f7df29e3a282",
   "metadata": {},
   "outputs": [
    {
     "name": "stdout",
     "output_type": "stream",
     "text": [
      "(2, 9.0)\n"
     ]
    }
   ],
   "source": [
    "glipse_tabla(nombre_tabla='Clase2')"
   ]
  }
 ],
 "metadata": {
  "kernelspec": {
   "display_name": "Python 3 (ipykernel)",
   "language": "python",
   "name": "python3"
  },
  "language_info": {
   "codemirror_mode": {
    "name": "ipython",
    "version": 3
   },
   "file_extension": ".py",
   "mimetype": "text/x-python",
   "name": "python",
   "nbconvert_exporter": "python",
   "pygments_lexer": "ipython3",
   "version": "3.10.9"
  }
 },
 "nbformat": 4,
 "nbformat_minor": 5
}
